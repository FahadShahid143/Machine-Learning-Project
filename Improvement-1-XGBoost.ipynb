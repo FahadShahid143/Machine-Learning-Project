{
 "cells": [
  {
   "cell_type": "code",
   "execution_count": 28,
   "id": "f5125363",
   "metadata": {},
   "outputs": [],
   "source": [
    "# Importing necessary libraries\n",
    "import numpy as np\n",
    "import pandas as pd\n",
    "import matplotlib.pyplot as plt\n",
    "import seaborn as sns\n",
    "from sklearn.model_selection import train_test_split\n",
    "from sklearn.preprocessing import LabelEncoder, StandardScaler\n",
    "from imblearn.under_sampling import OneSidedSelection\n",
    "from imblearn.over_sampling import SMOTE\n",
    "from sklearn.metrics import accuracy_score, roc_curve, roc_auc_score, classification_report\n",
    "from sklearn.pipeline import Pipeline\n",
    "from sklearn.preprocessing import PolynomialFeatures\n",
    "import xgboost as xgb\n",
    "#from bayes_opt import BayesianOptimization\n",
    "from bayes_opt import BayesianOptimization\n",
    "\n"
   ]
  },
  {
   "cell_type": "code",
   "execution_count": 29,
   "id": "f7e85670",
   "metadata": {},
   "outputs": [],
   "source": [
    "# Load the data from UCI repository\n",
    "train = pd.read_csv('http://archive.ics.uci.edu/ml/machine-learning-databases/adult/adult.data', header=None)\n",
    "test = pd.read_csv('http://archive.ics.uci.edu/ml/machine-learning-databases/adult/adult.test', skiprows=1, header=None)"
   ]
  },
  {
   "cell_type": "code",
   "execution_count": 30,
   "id": "2d2625d1",
   "metadata": {},
   "outputs": [],
   "source": [
    "# Define column labels\n",
    "col_labels = ['age', 'workclass', 'fnlwgt', 'education', 'education_num', 'marital_status', 'occupation',\n",
    "              'relationship', 'race', 'sex', 'capital_gain', 'capital_loss', 'hours_per_week', 'native_country', 'wage_class']\n",
    "\n",
    "train.columns = col_labels\n",
    "test.columns = col_labels"
   ]
  },
  {
   "cell_type": "code",
   "execution_count": 31,
   "id": "b5796dee",
   "metadata": {},
   "outputs": [],
   "source": [
    "# Convert target variable to binary\n",
    "encoder = LabelEncoder()\n",
    "train['wage_class'] = encoder.fit_transform(train['wage_class'])"
   ]
  },
  {
   "cell_type": "code",
   "execution_count": 32,
   "id": "c74e040a",
   "metadata": {},
   "outputs": [],
   "source": [
    "# Define categorical and numerical features\n",
    "numerical_features = [feature for feature in train.columns if train[feature].dtype != 'O']\n",
    "categorical_features = [feature for feature in train.columns if train[feature].dtype == 'O' and feature != 'wage_class']"
   ]
  },
  {
   "cell_type": "code",
   "execution_count": 33,
   "id": "b859075f",
   "metadata": {},
   "outputs": [],
   "source": [
    "# Transform 'native_country' feature to be 1 if country is the United States, otherwise 0\n",
    "train['native_country'] = np.where(train['native_country'] == ' United-States', 1, 0)\n",
    "\n",
    "# Transform 'marital_status' and concatenate some classes to reduce distinct classes\n",
    "train['marital_status'] = train['marital_status'].replace({' Married-civ-spouse': 'Married', ' Never-married': 'Single',\n",
    "                                                           ' Separated': 'Divorced', ' Married-spouse-absent': 'Divorced',\n",
    "                                                           ' Divorced': 'Divorced', ' Married-AF-spouse': 'Divorced', ' Widowed': 'Widowed'})"
   ]
  },
  {
   "cell_type": "code",
   "execution_count": 34,
   "id": "e936db2c",
   "metadata": {},
   "outputs": [],
   "source": [
    "# Transform 'workclass' feature to be 1 if the workclass is Private and 0 otherwise\n",
    "train['workclass'] = np.where(train['workclass'] == ' Private', 1, 0)\n",
    "\n",
    "# Transform 'sex' feature to be 1 if the sex is Male and 0 otherwise\n",
    "train['sex'] = np.where(train['sex'] == ' Male', 1, 0)\n",
    "\n",
    "# Transform 'race' feature to be 1 if the race is White and 0 otherwise\n",
    "train['race'] = np.where(train['race'] == ' White', 1, 0)"
   ]
  },
  {
   "cell_type": "code",
   "execution_count": 35,
   "id": "177a1973",
   "metadata": {},
   "outputs": [],
   "source": [
    "# Create ordered label for education\n",
    "education_mapping = {' Preschool': 0, ' 1st-4th': 1, ' 5th-6th': 2, ' 7th-8th': 3, ' 9th': 4, ' 10th': 5,\n",
    "                     ' 11th': 6, ' 12th': 7, ' HS-grad': 8, ' Some-college': 0, ' Assoc-acdm': 10,\n",
    "                     ' Assoc-voc': 11, ' Bachelors': 12, ' Prof-school': 13, ' Masters': 14, ' Doctorate': 15}\n",
    "train['education'] = train['education'].map(education_mapping)"
   ]
  },
  {
   "cell_type": "code",
   "execution_count": 36,
   "id": "c1d840d1",
   "metadata": {},
   "outputs": [],
   "source": [
    "# Map ordered labels for 'relationship', 'occupation', and 'marital_status' features\n",
    "relationship_ordered = train.groupby(['relationship'])['wage_class'].count().sort_values().index\n",
    "relationship_ordered = {k: i for i, k in enumerate(relationship_ordered, 0)}\n",
    "train['relationship'] = train['relationship'].map(relationship_ordered)\n",
    "\n",
    "occupation_ordered = train.groupby(['occupation'])['wage_class'].count().sort_values().index\n",
    "occupation_ordered = {k: i for i, k in enumerate(occupation_ordered, 0)}\n",
    "train['occupation'] = train['occupation'].map(occupation_ordered)\n",
    "\n",
    "marital_ordered = train.groupby(['marital_status'])['wage_class'].count().sort_values().index\n",
    "marital_ordered = {k: i for i, k in enumerate(marital_ordered, 0)}\n",
    "train['marital_status'] = train['marital_status'].map(marital_ordered)"
   ]
  },
  {
   "cell_type": "code",
   "execution_count": 37,
   "id": "337f7c96",
   "metadata": {},
   "outputs": [],
   "source": [
    "# Drop 'fnlwgt' column as it's not useful for prediction\n",
    "train.drop('fnlwgt', axis=1, inplace=True)"
   ]
  },
  {
   "cell_type": "code",
   "execution_count": 38,
   "id": "dad3793d",
   "metadata": {},
   "outputs": [],
   "source": [
    "# Scale the features\n",
    "scaler = StandardScaler()\n",
    "scaled_features_train = scaler.fit_transform(train.drop('wage_class', axis=1))\n",
    "scaled_features_train = pd.DataFrame(scaled_features_train, columns=train.drop('wage_class', axis=1).columns)"
   ]
  },
  {
   "cell_type": "code",
   "execution_count": 39,
   "id": "0fdd9c88",
   "metadata": {},
   "outputs": [],
   "source": [
    "# Undersample the train set\n",
    "under = OneSidedSelection()\n",
    "X_train_res, y_train_res = under.fit_resample(scaled_features_train, train['wage_class'])\n",
    "\n",
    "# Oversample the train set\n",
    "sm = SMOTE()\n",
    "X_train_res, y_train_res = sm.fit_resample(X_train_res, y_train_res)\n",
    "X_train_res = pd.DataFrame(X_train_res, columns=train.drop('wage_class', axis=1).columns)\n",
    "\n",
    "# Create the final train set\n",
    "final_train = pd.concat([X_train_res, y_train_res], axis=1)"
   ]
  },
  {
   "cell_type": "code",
   "execution_count": 40,
   "id": "15a29909",
   "metadata": {},
   "outputs": [],
   "source": [
    "# Split the final train set into features and target\n",
    "X = final_train.drop('wage_class', axis=1)\n",
    "y = final_train['wage_class']\n",
    "X_train, X_test, y_train, y_test = train_test_split(X, y, test_size=0.2, random_state=0)"
   ]
  },
  {
   "cell_type": "code",
   "execution_count": 41,
   "id": "3291ee0a",
   "metadata": {},
   "outputs": [],
   "source": [
    "# Define the XGBoost model with Bayesian Optimization for hyperparameter tuning\n",
    "def xgb_evaluate(max_depth, gamma, colsample_bytree, min_child_weight):\n",
    "    params = {'eval_metric': 'logloss',\n",
    "              'max_depth': int(max_depth),\n",
    "              'subsample': 0.8,\n",
    "              'eta': 0.1,\n",
    "              'gamma': gamma,\n",
    "              'colsample_bytree': colsample_bytree,\n",
    "              'min_child_weight': min_child_weight}\n",
    "\n",
    "    model = xgb.XGBClassifier(use_label_encoder=False, **params)\n",
    "    model.fit(X_train, y_train)\n",
    "    predictions = model.predict(X_test)\n",
    "    return accuracy_score(y_test, predictions)\n",
    "\n",
    "# Define the parameter space for Bayesian Optimization\n",
    "xgb_params = {'max_depth': (3, 7),\n",
    "              'gamma': (0, 1),\n",
    "              'colsample_bytree': (0.3, 0.9),\n",
    "              'min_child_weight': (1, 10)}"
   ]
  },
  {
   "cell_type": "code",
   "execution_count": 42,
   "id": "77cf7baa",
   "metadata": {},
   "outputs": [
    {
     "name": "stdout",
     "output_type": "stream",
     "text": [
      "|   iter    |  target   | colsam... |   gamma   | max_depth | min_ch... |\n",
      "-------------------------------------------------------------------------\n"
     ]
    },
    {
     "name": "stderr",
     "output_type": "stream",
     "text": [
      "C:\\Users\\Fahad Shahid\\AppData\\Roaming\\Python\\Python39\\site-packages\\xgboost\\sklearn.py:1395: UserWarning: `use_label_encoder` is deprecated in 1.7.0.\n",
      "  warnings.warn(\"`use_label_encoder` is deprecated in 1.7.0.\")\n"
     ]
    },
    {
     "name": "stdout",
     "output_type": "stream",
     "text": [
      "| \u001b[0m1        \u001b[0m | \u001b[0m0.8876   \u001b[0m | \u001b[0m0.6293   \u001b[0m | \u001b[0m0.7152   \u001b[0m | \u001b[0m5.411    \u001b[0m | \u001b[0m5.904    \u001b[0m |\n"
     ]
    },
    {
     "name": "stderr",
     "output_type": "stream",
     "text": [
      "C:\\Users\\Fahad Shahid\\AppData\\Roaming\\Python\\Python39\\site-packages\\xgboost\\sklearn.py:1395: UserWarning: `use_label_encoder` is deprecated in 1.7.0.\n",
      "  warnings.warn(\"`use_label_encoder` is deprecated in 1.7.0.\")\n"
     ]
    },
    {
     "name": "stdout",
     "output_type": "stream",
     "text": [
      "| \u001b[0m2        \u001b[0m | \u001b[0m0.8764   \u001b[0m | \u001b[0m0.5542   \u001b[0m | \u001b[0m0.6459   \u001b[0m | \u001b[0m4.75     \u001b[0m | \u001b[0m9.026    \u001b[0m |\n"
     ]
    },
    {
     "name": "stderr",
     "output_type": "stream",
     "text": [
      "C:\\Users\\Fahad Shahid\\AppData\\Roaming\\Python\\Python39\\site-packages\\xgboost\\sklearn.py:1395: UserWarning: `use_label_encoder` is deprecated in 1.7.0.\n",
      "  warnings.warn(\"`use_label_encoder` is deprecated in 1.7.0.\")\n"
     ]
    },
    {
     "name": "stdout",
     "output_type": "stream",
     "text": [
      "| \u001b[95m3        \u001b[0m | \u001b[95m0.8932   \u001b[0m | \u001b[95m0.8782   \u001b[0m | \u001b[95m0.3834   \u001b[0m | \u001b[95m6.167    \u001b[0m | \u001b[95m5.76     \u001b[0m |\n"
     ]
    },
    {
     "name": "stderr",
     "output_type": "stream",
     "text": [
      "C:\\Users\\Fahad Shahid\\AppData\\Roaming\\Python\\Python39\\site-packages\\xgboost\\sklearn.py:1395: UserWarning: `use_label_encoder` is deprecated in 1.7.0.\n",
      "  warnings.warn(\"`use_label_encoder` is deprecated in 1.7.0.\")\n"
     ]
    },
    {
     "name": "stdout",
     "output_type": "stream",
     "text": [
      "| \u001b[0m4        \u001b[0m | \u001b[0m0.8664   \u001b[0m | \u001b[0m0.6408   \u001b[0m | \u001b[0m0.9256   \u001b[0m | \u001b[0m3.284    \u001b[0m | \u001b[0m1.784    \u001b[0m |\n"
     ]
    },
    {
     "name": "stderr",
     "output_type": "stream",
     "text": [
      "C:\\Users\\Fahad Shahid\\AppData\\Roaming\\Python\\Python39\\site-packages\\xgboost\\sklearn.py:1395: UserWarning: `use_label_encoder` is deprecated in 1.7.0.\n",
      "  warnings.warn(\"`use_label_encoder` is deprecated in 1.7.0.\")\n"
     ]
    },
    {
     "name": "stdout",
     "output_type": "stream",
     "text": [
      "| \u001b[95m5        \u001b[0m | \u001b[95m0.894    \u001b[0m | \u001b[95m0.3121   \u001b[0m | \u001b[95m0.8326   \u001b[0m | \u001b[95m6.113    \u001b[0m | \u001b[95m8.83     \u001b[0m |\n"
     ]
    },
    {
     "name": "stderr",
     "output_type": "stream",
     "text": [
      "C:\\Users\\Fahad Shahid\\AppData\\Roaming\\Python\\Python39\\site-packages\\xgboost\\sklearn.py:1395: UserWarning: `use_label_encoder` is deprecated in 1.7.0.\n",
      "  warnings.warn(\"`use_label_encoder` is deprecated in 1.7.0.\")\n"
     ]
    },
    {
     "name": "stdout",
     "output_type": "stream",
     "text": [
      "| \u001b[95m6        \u001b[0m | \u001b[95m0.8947   \u001b[0m | \u001b[95m0.3      \u001b[0m | \u001b[95m0.8424   \u001b[0m | \u001b[95m6.76     \u001b[0m | \u001b[95m8.194    \u001b[0m |\n"
     ]
    },
    {
     "name": "stderr",
     "output_type": "stream",
     "text": [
      "C:\\Users\\Fahad Shahid\\AppData\\Roaming\\Python\\Python39\\site-packages\\xgboost\\sklearn.py:1395: UserWarning: `use_label_encoder` is deprecated in 1.7.0.\n",
      "  warnings.warn(\"`use_label_encoder` is deprecated in 1.7.0.\")\n"
     ]
    },
    {
     "name": "stdout",
     "output_type": "stream",
     "text": [
      "| \u001b[0m7        \u001b[0m | \u001b[0m0.8915   \u001b[0m | \u001b[0m0.6252   \u001b[0m | \u001b[0m0.15     \u001b[0m | \u001b[0m6.942    \u001b[0m | \u001b[0m9.992    \u001b[0m |\n"
     ]
    },
    {
     "name": "stderr",
     "output_type": "stream",
     "text": [
      "C:\\Users\\Fahad Shahid\\AppData\\Roaming\\Python\\Python39\\site-packages\\xgboost\\sklearn.py:1395: UserWarning: `use_label_encoder` is deprecated in 1.7.0.\n",
      "  warnings.warn(\"`use_label_encoder` is deprecated in 1.7.0.\")\n"
     ]
    },
    {
     "name": "stdout",
     "output_type": "stream",
     "text": [
      "| \u001b[95m8        \u001b[0m | \u001b[95m0.9003   \u001b[0m | \u001b[95m0.3      \u001b[0m | \u001b[95m0.0      \u001b[0m | \u001b[95m7.0      \u001b[0m | \u001b[95m4.081    \u001b[0m |\n"
     ]
    },
    {
     "name": "stderr",
     "output_type": "stream",
     "text": [
      "C:\\Users\\Fahad Shahid\\AppData\\Roaming\\Python\\Python39\\site-packages\\xgboost\\sklearn.py:1395: UserWarning: `use_label_encoder` is deprecated in 1.7.0.\n",
      "  warnings.warn(\"`use_label_encoder` is deprecated in 1.7.0.\")\n"
     ]
    },
    {
     "name": "stdout",
     "output_type": "stream",
     "text": [
      "| \u001b[0m9        \u001b[0m | \u001b[0m0.8984   \u001b[0m | \u001b[0m0.9      \u001b[0m | \u001b[0m1.0      \u001b[0m | \u001b[0m7.0      \u001b[0m | \u001b[0m2.875    \u001b[0m |\n"
     ]
    },
    {
     "name": "stderr",
     "output_type": "stream",
     "text": [
      "C:\\Users\\Fahad Shahid\\AppData\\Roaming\\Python\\Python39\\site-packages\\xgboost\\sklearn.py:1395: UserWarning: `use_label_encoder` is deprecated in 1.7.0.\n",
      "  warnings.warn(\"`use_label_encoder` is deprecated in 1.7.0.\")\n"
     ]
    },
    {
     "name": "stdout",
     "output_type": "stream",
     "text": [
      "| \u001b[95m10       \u001b[0m | \u001b[95m0.9011   \u001b[0m | \u001b[95m0.3      \u001b[0m | \u001b[95m0.0      \u001b[0m | \u001b[95m7.0      \u001b[0m | \u001b[95m1.074    \u001b[0m |\n"
     ]
    },
    {
     "name": "stderr",
     "output_type": "stream",
     "text": [
      "C:\\Users\\Fahad Shahid\\AppData\\Roaming\\Python\\Python39\\site-packages\\xgboost\\sklearn.py:1395: UserWarning: `use_label_encoder` is deprecated in 1.7.0.\n",
      "  warnings.warn(\"`use_label_encoder` is deprecated in 1.7.0.\")\n"
     ]
    },
    {
     "name": "stdout",
     "output_type": "stream",
     "text": [
      "| \u001b[0m11       \u001b[0m | \u001b[0m0.9001   \u001b[0m | \u001b[0m0.3      \u001b[0m | \u001b[0m0.0      \u001b[0m | \u001b[0m7.0      \u001b[0m | \u001b[0m2.478    \u001b[0m |\n"
     ]
    },
    {
     "name": "stderr",
     "output_type": "stream",
     "text": [
      "C:\\Users\\Fahad Shahid\\AppData\\Roaming\\Python\\Python39\\site-packages\\xgboost\\sklearn.py:1395: UserWarning: `use_label_encoder` is deprecated in 1.7.0.\n",
      "  warnings.warn(\"`use_label_encoder` is deprecated in 1.7.0.\")\n"
     ]
    },
    {
     "name": "stdout",
     "output_type": "stream",
     "text": [
      "| \u001b[0m12       \u001b[0m | \u001b[0m0.8992   \u001b[0m | \u001b[0m0.3      \u001b[0m | \u001b[0m1.0      \u001b[0m | \u001b[0m7.0      \u001b[0m | \u001b[0m4.895    \u001b[0m |\n"
     ]
    },
    {
     "name": "stderr",
     "output_type": "stream",
     "text": [
      "C:\\Users\\Fahad Shahid\\AppData\\Roaming\\Python\\Python39\\site-packages\\xgboost\\sklearn.py:1395: UserWarning: `use_label_encoder` is deprecated in 1.7.0.\n",
      "  warnings.warn(\"`use_label_encoder` is deprecated in 1.7.0.\")\n"
     ]
    },
    {
     "name": "stdout",
     "output_type": "stream",
     "text": [
      "| \u001b[0m13       \u001b[0m | \u001b[0m0.9003   \u001b[0m | \u001b[0m0.3      \u001b[0m | \u001b[0m1.0      \u001b[0m | \u001b[0m7.0      \u001b[0m | \u001b[0m1.0      \u001b[0m |\n"
     ]
    },
    {
     "name": "stderr",
     "output_type": "stream",
     "text": [
      "C:\\Users\\Fahad Shahid\\AppData\\Roaming\\Python\\Python39\\site-packages\\xgboost\\sklearn.py:1395: UserWarning: `use_label_encoder` is deprecated in 1.7.0.\n",
      "  warnings.warn(\"`use_label_encoder` is deprecated in 1.7.0.\")\n"
     ]
    },
    {
     "name": "stdout",
     "output_type": "stream",
     "text": [
      "| \u001b[0m14       \u001b[0m | \u001b[0m0.8934   \u001b[0m | \u001b[0m0.9      \u001b[0m | \u001b[0m0.0      \u001b[0m | \u001b[0m6.21     \u001b[0m | \u001b[0m1.0      \u001b[0m |\n"
     ]
    },
    {
     "name": "stderr",
     "output_type": "stream",
     "text": [
      "C:\\Users\\Fahad Shahid\\AppData\\Roaming\\Python\\Python39\\site-packages\\xgboost\\sklearn.py:1395: UserWarning: `use_label_encoder` is deprecated in 1.7.0.\n",
      "  warnings.warn(\"`use_label_encoder` is deprecated in 1.7.0.\")\n"
     ]
    },
    {
     "name": "stdout",
     "output_type": "stream",
     "text": [
      "| \u001b[0m15       \u001b[0m | \u001b[0m0.8985   \u001b[0m | \u001b[0m0.3      \u001b[0m | \u001b[0m0.0      \u001b[0m | \u001b[0m7.0      \u001b[0m | \u001b[0m5.886    \u001b[0m |\n",
      "=========================================================================\n"
     ]
    }
   ],
   "source": [
    "# Apply Bayesian Optimization\n",
    "xgb_bo = BayesianOptimization(xgb_evaluate, xgb_params, random_state=0)\n",
    "xgb_bo.maximize(init_points=5, n_iter=10)"
   ]
  },
  {
   "cell_type": "code",
   "execution_count": 43,
   "id": "91916945",
   "metadata": {},
   "outputs": [],
   "source": [
    "# Get the best parameters\n",
    "best_params = xgb_bo.max['params']\n",
    "best_params['max_depth'] = int(best_params['max_depth'])\n"
   ]
  },
  {
   "cell_type": "code",
   "execution_count": 44,
   "id": "7aa3dca2",
   "metadata": {},
   "outputs": [
    {
     "name": "stderr",
     "output_type": "stream",
     "text": [
      "C:\\Users\\Fahad Shahid\\AppData\\Roaming\\Python\\Python39\\site-packages\\xgboost\\sklearn.py:1395: UserWarning: `use_label_encoder` is deprecated in 1.7.0.\n",
      "  warnings.warn(\"`use_label_encoder` is deprecated in 1.7.0.\")\n"
     ]
    },
    {
     "data": {
      "text/plain": [
       "XGBClassifier(base_score=None, booster=None, callbacks=None,\n",
       "              colsample_bylevel=None, colsample_bynode=None,\n",
       "              colsample_bytree=0.3, early_stopping_rounds=None,\n",
       "              enable_categorical=False, eval_metric=None, feature_types=None,\n",
       "              gamma=0.0, gpu_id=None, grow_policy=None, importance_type=None,\n",
       "              interaction_constraints=None, learning_rate=None, max_bin=None,\n",
       "              max_cat_threshold=None, max_cat_to_onehot=None,\n",
       "              max_delta_step=None, max_depth=7, max_leaves=None,\n",
       "              min_child_weight=1.0741307680980723, missing=nan,\n",
       "              monotone_constraints=None, n_estimators=100, n_jobs=None,\n",
       "              num_parallel_tree=None, predictor=None, random_state=None, ...)"
      ]
     },
     "execution_count": 44,
     "metadata": {},
     "output_type": "execute_result"
    }
   ],
   "source": [
    "# Train the XGBoost model with the best parameters\n",
    "xgb_model = xgb.XGBClassifier(use_label_encoder=False, **best_params)\n",
    "xgb_model.fit(X_train, y_train)"
   ]
  },
  {
   "cell_type": "code",
   "execution_count": 45,
   "id": "764d8a80",
   "metadata": {},
   "outputs": [],
   "source": [
    "# Make predictions on the test set\n",
    "test_predictions = xgb_model.predict(X_test)"
   ]
  },
  {
   "cell_type": "code",
   "execution_count": 46,
   "id": "00ca93a0",
   "metadata": {},
   "outputs": [
    {
     "name": "stdout",
     "output_type": "stream",
     "text": [
      "Test Set Accuracy (XGBoost): 0.9120507399577167\n"
     ]
    }
   ],
   "source": [
    "# Evaluate the model\n",
    "test_accuracy = accuracy_score(y_test, test_predictions)\n",
    "print(f\"Test Set Accuracy (XGBoost): {test_accuracy}\")"
   ]
  },
  {
   "cell_type": "code",
   "execution_count": 47,
   "id": "3f43043c",
   "metadata": {},
   "outputs": [],
   "source": [
    "# Get feature importances from the model\n",
    "feature_importances = xgb_model.feature_importances_\n",
    "feature_names = X_train.columns\n"
   ]
  },
  {
   "cell_type": "code",
   "execution_count": 48,
   "id": "d8085989",
   "metadata": {},
   "outputs": [],
   "source": [
    "# Create a pandas Series to hold the feature importances and names, and sort it\n",
    "importances_series = pd.Series(feature_importances, index=feature_names).sort_values(ascending=False)"
   ]
  },
  {
   "cell_type": "code",
   "execution_count": 49,
   "id": "4b256239",
   "metadata": {},
   "outputs": [
    {
     "data": {
      "image/png": "[encoded data removed]",
      "text/plain": [
       "<Figure size 864x576 with 1 Axes>"
      ]
     },
     "metadata": {
      "needs_background": "light"
     },
     "output_type": "display_data"
    }
   ],
   "source": [
    "# Plot the top feature importances\n",
    "plt.figure(figsize=(12, 8))\n",
    "importances_series[:10].plot(kind='barh')\n",
    "plt.title('Top Feature Importances (XGBoost)')\n",
    "plt.xlabel('Importance')\n",
    "plt.ylabel('Features')\n",
    "plt.gca().invert_yaxis()\n",
    "plt.show()"
   ]
  },
  {
   "cell_type": "code",
   "execution_count": 50,
   "id": "0100aa64",
   "metadata": {},
   "outputs": [],
   "source": [
    "# Make predictions on the test set with probabilities\n",
    "test_probabilities = xgb_model.predict_proba (X_test) [:, 1]"
   ]
  },
  {
   "cell_type": "code",
   "execution_count": 51,
   "id": "c55f9699",
   "metadata": {},
   "outputs": [
    {
     "name": "stdout",
     "output_type": "stream",
     "text": [
      "ROC AUC Score: 0.9748354775224988\n"
     ]
    }
   ],
   "source": [
    "# Compute ROC curve\n",
    "fpr, tpr, thresholds = roc_curve(y_test, test_probabilities)\n",
    "\n",
    "# Compute ROC AUC score\n",
    "roc_auc = roc_auc_score(y_test, test_probabilities)\n",
    "\n",
    "print(f\"ROC AUC Score: {roc_auc}\")"
   ]
  },
  {
   "cell_type": "code",
   "execution_count": 52,
   "id": "0286d0e6",
   "metadata": {},
   "outputs": [
    {
     "data": {
      "image/png": "[encoded data removed]",
      "text/plain": [
       "<Figure size 720x576 with 1 Axes>"
      ]
     },
     "metadata": {
      "needs_background": "light"
     },
     "output_type": "display_data"
    }
   ],
   "source": [
    "# Plot ROC curve\n",
    "plt.figure(figsize=(10, 8))\n",
    "\n",
    "plt.plot(fpr, tpr, label='ROC curve (area = %0.2f)' % roc_auc)\n",
    "plt.plot([0, 1], [0, 1], 'k--')\n",
    "\n",
    "plt.xlim([0.0, 1.0])\n",
    "plt.ylim([0.0, 1.05])\n",
    "\n",
    "plt.xlabel('False Positive Rate')\n",
    "plt.ylabel('True Positive Rate')\n",
    "\n",
    "plt.title('Receiver Operating Characteristic (ROC) Curve')\n",
    "plt.legend(loc=\"lower right\")\n",
    "\n",
    "plt.show()"
   ]
  },
  {
   "cell_type": "code",
   "execution_count": null,
   "id": "ffbb7993",
   "metadata": {},
   "outputs": [],
   "source": []
  },
  {
   "cell_type": "code",
   "execution_count": null,
   "id": "b57b06fd",
   "metadata": {},
   "outputs": [],
   "source": []
  }
 ],
 "metadata": {
  "kernelspec": {
   "display_name": "Python 3 (ipykernel)",
   "language": "python",
   "name": "python3"
  },
  "language_info": {
   "codemirror_mode": {
    "name": "ipython",
    "version": 3
   },
   "file_extension": ".py",
   "mimetype": "text/x-python",
   "name": "python",
   "nbconvert_exporter": "python",
   "pygments_lexer": "ipython3",
   "version": "3.9.12"
  }
 },
 "nbformat": 4,
 "nbformat_minor": 5
}
